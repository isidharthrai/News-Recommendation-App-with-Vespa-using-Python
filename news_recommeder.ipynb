{
 "cells": [
  {
   "cell_type": "markdown",
   "id": "f514287d",
   "metadata": {},
   "source": [
    "Loading Data..."
   ]
  },
  {
   "cell_type": "code",
   "execution_count": 2,
   "id": "f50801f6",
   "metadata": {},
   "outputs": [
    {
     "data": {
      "text/plain": [
       "{'abstract': \"Shop the notebooks, jackets, and more that the royals can't live without.\",\n",
       " 'title': 'The Brands Queen Elizabeth, Prince Charles, and Prince Philip Swear By',\n",
       " 'subcategory': 'lifestyleroyals',\n",
       " 'news_id': 'N3112',\n",
       " 'category': 'lifestyle',\n",
       " 'url': 'https://www.msn.com/en-us/lifestyle/lifestyleroyals/the-brands-queen-elizabeth,-prince-charles,-and-prince-philip-swear-by/ss-AAGH0ET?ocid=chopendata',\n",
       " 'date': 20191103,\n",
       " 'clicks': 0,\n",
       " 'impressions': 0}"
      ]
     },
     "execution_count": 2,
     "metadata": {},
     "output_type": "execute_result"
    }
   ],
   "source": [
    "import requests, json\n",
    "\n",
    "data = json.loads(\n",
    "    requests.get(\"https://thigm85.github.io/data/mind/mind_demo_fields_parsed.json\").text\n",
    ")\n",
    "data[0]"
   ]
  },
  {
   "cell_type": "code",
   "execution_count": 3,
   "id": "80b35faf",
   "metadata": {},
   "outputs": [
    {
     "data": {
      "text/plain": [
       "28603"
      ]
     },
     "execution_count": 3,
     "metadata": {},
     "output_type": "execute_result"
    }
   ],
   "source": [
    "len(data)"
   ]
  },
  {
   "cell_type": "markdown",
   "id": "81ebdd6b",
   "metadata": {},
   "source": [
    "Initializing App & Schema..."
   ]
  },
  {
   "cell_type": "code",
   "execution_count": 4,
   "id": "443f4401",
   "metadata": {},
   "outputs": [],
   "source": [
    "from vespa.package import ApplicationPackage\n",
    "\n",
    "app_package = ApplicationPackage(name=\"news\")"
   ]
  },
  {
   "cell_type": "code",
   "execution_count": 5,
   "id": "58bfbd18",
   "metadata": {},
   "outputs": [],
   "source": [
    "from vespa.package import Field\n",
    "\n",
    "app_package.schema.add_fields(\n",
    "    Field(name=\"news_id\", type=\"string\", indexing=[\"summary\", \"attribute\"], attribute=[\"fast-search\"]),\n",
    "    Field(name=\"category\", type=\"string\", indexing=[\"summary\", \"attribute\"]),\n",
    "    Field(name=\"subcategory\", type=\"string\", indexing=[\"summary\", \"attribute\"]),\n",
    "    Field(name=\"title\", type=\"string\", indexing=[\"index\", \"summary\"], index=\"enable-bm25\"),\n",
    "    Field(name=\"abstract\", type=\"string\", indexing=[\"index\", \"summary\"], index=\"enable-bm25\"),\n",
    "    Field(name=\"url\", type=\"string\", indexing=[\"index\", \"summary\"]),        \n",
    "    Field(name=\"date\", type=\"int\", indexing=[\"summary\", \"attribute\"]),            \n",
    "    Field(name=\"clicks\", type=\"int\", indexing=[\"summary\", \"attribute\"]),            \n",
    "    Field(name=\"impressions\", type=\"int\", indexing=[\"summary\", \"attribute\"]),                \n",
    ")\n"
   ]
  },
  {
   "cell_type": "code",
   "execution_count": 6,
   "id": "45699b32",
   "metadata": {},
   "outputs": [],
   "source": [
    "from vespa.package import FieldSet\n",
    "\n",
    "app_package.schema.add_field_set(\n",
    "    FieldSet(name=\"default\", fields=[\"title\", \"abstract\"])\n",
    ")\n"
   ]
  },
  {
   "cell_type": "markdown",
   "id": "59e98571",
   "metadata": {},
   "source": [
    "Deploying with Docker..."
   ]
  },
  {
   "cell_type": "code",
   "execution_count": 7,
   "id": "017e9a50",
   "metadata": {},
   "outputs": [
    {
     "name": "stdout",
     "output_type": "stream",
     "text": [
      "Waiting for configuration server, 0/60 seconds...\n",
      "Waiting for configuration server, 5/60 seconds...\n",
      "Waiting for configuration server, 10/60 seconds...\n",
      "Waiting for application to come up, 0/300 seconds.\n",
      "Waiting for application to come up, 5/300 seconds.\n",
      "Waiting for application to come up, 10/300 seconds.\n",
      "Waiting for application to come up, 15/300 seconds.\n",
      "Waiting for application to come up, 20/300 seconds.\n",
      "Application is up!\n",
      "Finished deployment.\n"
     ]
    }
   ],
   "source": [
    "from vespa.deployment import VespaDocker\n",
    "\n",
    "vespa_docker = VespaDocker()\n",
    "app = vespa_docker.deploy(\n",
    "    application_package=app_package, \n",
    ")"
   ]
  },
  {
   "cell_type": "markdown",
   "id": "f504105b",
   "metadata": {},
   "source": [
    "Feeding date to Vespa..."
   ]
  },
  {
   "cell_type": "code",
   "execution_count": 8,
   "id": "ec82aabb",
   "metadata": {},
   "outputs": [],
   "source": [
    "for article in data:\n",
    "    res = app.feed_data_point(\n",
    "        data_id=article[\"news_id\"], \n",
    "        fields=article, \n",
    "        schema=\"news\"\n",
    "    )\n"
   ]
  },
  {
   "cell_type": "markdown",
   "id": "86486f2e",
   "metadata": {},
   "source": [
    "Querying the app...\n"
   ]
  },
  {
   "cell_type": "markdown",
   "id": "f62a2aab",
   "metadata": {},
   "source": [
    "Search over indexed fields using keywords..."
   ]
  },
  {
   "cell_type": "code",
   "execution_count": 9,
   "id": "632f12b4",
   "metadata": {},
   "outputs": [
    {
     "data": {
      "text/plain": [
       "{'id': 'id:news:news::N14152',\n",
       " 'relevance': 0.25641557752127125,\n",
       " 'source': 'news_content',\n",
       " 'fields': {'sddocname': 'news',\n",
       "  'documentid': 'id:news:news::N14152',\n",
       "  'news_id': 'N14152',\n",
       "  'category': 'music',\n",
       "  'subcategory': 'musicnews',\n",
       "  'title': 'Music is hot in Nashville this week',\n",
       "  'abstract': 'Looking for fun, entertaining music events to check out in Nashville this week? Here are top picks with dates, times, locations and ticket links.',\n",
       "  'url': 'https://www.msn.com/en-us/music/musicnews/music-is-hot-in-nashville-this-week/ar-BBWImOh?ocid=chopendata',\n",
       "  'date': 20191101,\n",
       "  'clicks': 0,\n",
       "  'impressions': 3}}"
      ]
     },
     "execution_count": 9,
     "metadata": {},
     "output_type": "execute_result"
    }
   ],
   "source": [
    "res = app.query(body={\"yql\" : \"select * from sources * where default contains 'music'\"})\n",
    "res.hits[0]"
   ]
  },
  {
   "cell_type": "code",
   "execution_count": 11,
   "id": "ec1965f7",
   "metadata": {},
   "outputs": [
    {
     "data": {
      "text/plain": [
       "{'id': 'index:news_content/0/988f76793a855e48b16dc5d3',\n",
       " 'relevance': 0.19593085505063085,\n",
       " 'source': 'news_content',\n",
       " 'fields': {'title': \"At Least 3 Injured In Stampede At Travis Scott's Astroworld Music Festival\",\n",
       "  'abstract': \"A stampede Saturday outside rapper Travis Scott's Astroworld musical festival in Houston, left three people injured. Minutes before the gates were scheduled to open at noon, fans began climbing over metal barricades and surged toward the entrance, according to local news reports.\"}}"
      ]
     },
     "execution_count": 11,
     "metadata": {},
     "output_type": "execute_result"
    }
   ],
   "source": [
    "res = app.query(body = {\"yql\" : \"select title, abstract from sources * where title contains 'music' AND default contains 'festival'\"})\n",
    "res.hits[0]"
   ]
  },
  {
   "cell_type": "code",
   "execution_count": 12,
   "id": "b7e393f3",
   "metadata": {},
   "outputs": [
    {
     "data": {
      "text/plain": [
       "{'id': 'index:news_content/0/698f73a87a936f1c773f2161',\n",
       " 'relevance': 0.0,\n",
       " 'source': 'news_content',\n",
       " 'fields': {'title': 'The Brands Queen Elizabeth, Prince Charles, and Prince Philip Swear By'}}"
      ]
     },
     "execution_count": 12,
     "metadata": {},
     "output_type": "execute_result"
    }
   ],
   "source": [
    "res = app.query(body = {\"yql\" : \"select title from sources * where sddocname contains 'news'\"})\n",
    "res.hits[0]"
   ]
  },
  {
   "cell_type": "code",
   "execution_count": 13,
   "id": "ba9985d8",
   "metadata": {},
   "outputs": [
    {
     "data": {
      "text/plain": [
       "{'id': 'index:news_content/0/debbdfe653c6d11f71cc2353',\n",
       " 'relevance': 0.0017429193899782135,\n",
       " 'source': 'news_content',\n",
       " 'fields': {'title': 'These Cranberry Sauce Recipes Are Perfect for Thanksgiving Dinner',\n",
       "  'date': 20191110}}"
      ]
     },
     "execution_count": 13,
     "metadata": {},
     "output_type": "execute_result"
    }
   ],
   "source": [
    "res = app.query(body={\"yql\" : \"select title, date from sources * where date contains '20191110'\"})\n",
    "res.hits[0]"
   ]
  },
  {
   "cell_type": "code",
   "execution_count": 14,
   "id": "57eecfa4",
   "metadata": {},
   "outputs": [
    {
     "data": {
      "text/plain": [
       "{'id': 'index:news_content/0/bb88325ae94d888c46538d0b',\n",
       " 'relevance': 0.27025156546141466,\n",
       " 'source': 'news_content',\n",
       " 'fields': {'title': 'Weather forecast in St. Louis',\n",
       "  'abstract': \"What's the weather today? What's the weather for the week? Here's your forecast.\",\n",
       "  'date': 20191110}}"
      ]
     },
     "execution_count": 14,
     "metadata": {},
     "output_type": "execute_result"
    }
   ],
   "source": [
    "res = app.query(body={\"yql\" : \"select title, abstract, date from sources * where default contains 'weather' AND date contains '20191110'\"})\n",
    "res.hits[0]"
   ]
  },
  {
   "cell_type": "code",
   "execution_count": 25,
   "id": "c778834f",
   "metadata": {},
   "outputs": [
    {
     "data": {
      "text/plain": [
       "{'id': 'index:news_content/0/c41a873213fdcffbb74987c0',\n",
       " 'relevance': 0.0017429193899782135,\n",
       " 'source': 'news_content',\n",
       " 'fields': {'title': 'How to report weather-related closings, delays',\n",
       "  'abstract': 'When there are active closings, view them here. WXII 12 News receives a number of phone calls and e-mails from viewers with questions. Sign up for our Newsletters To report a closure, please visit wxii.reportclosing.com The weather closing system is a viewer-operated system. Employees of WXII-TV and WXII12.com DO NOT enter the information in the system. That comes straight from the school/business/institution. Before you can enter information,...'}}"
      ]
     },
     "execution_count": 25,
     "metadata": {},
     "output_type": "execute_result"
    }
   ],
   "source": [
    "res = app.query({\"yql\" : \"select title,abstract from sources * where date <= 20191110 AND date >= 20191108\"})\n",
    "res.hits[0]"
   ]
  },
  {
   "cell_type": "code",
   "execution_count": 31,
   "id": "4dc67542",
   "metadata": {},
   "outputs": [
    {
     "data": {
      "text/plain": [
       "10"
      ]
     },
     "execution_count": 31,
     "metadata": {},
     "output_type": "execute_result"
    }
   ],
   "source": [
    "res = app.query(body={\"yql\" : \"select title, date from sources * where default contains 'music'\"})\n",
    "len(res.hits)"
   ]
  },
  {
   "cell_type": "code",
   "execution_count": 32,
   "id": "a93c9415",
   "metadata": {},
   "outputs": [
    {
     "data": {
      "text/plain": [
       "[{'id': 'index:news_content/0/5f1b30d14d4a15050dae9f7f',\n",
       "  'relevance': 0.25641557752127125,\n",
       "  'source': 'news_content',\n",
       "  'fields': {'title': 'Music is hot in Nashville this week',\n",
       "   'date': 20191101}},\n",
       " {'id': 'index:news_content/0/6a031d5eff95264c54daf56d',\n",
       "  'relevance': 0.23351089409559303,\n",
       "  'source': 'news_content',\n",
       "  'fields': {'title': 'Apple Music Replay highlights your favorite tunes of the year',\n",
       "   'date': 20191105}}]"
      ]
     },
     "execution_count": 32,
     "metadata": {},
     "output_type": "execute_result"
    }
   ],
   "source": [
    "res.hits[:2]"
   ]
  },
  {
   "cell_type": "code",
   "execution_count": 33,
   "id": "4de58288",
   "metadata": {},
   "outputs": [
    {
     "data": {
      "text/plain": [
       "[{'id': 'index:news_content/0/934a8d976ff8694772009362',\n",
       "  'relevance': 0.0,\n",
       "  'source': 'news_content',\n",
       "  'fields': {'title': 'Korg Minilogue XD update adds key triggers for synth sequences',\n",
       "   'date': 20191113}},\n",
       " {'id': 'index:news_content/0/4feca287fdfa1d027f61e7bf',\n",
       "  'relevance': 0.0,\n",
       "  'source': 'news_content',\n",
       "  'fields': {'title': 'Tom Draper, Black Music Industry Pioneer, Dies at 79',\n",
       "   'date': 20191113}}]"
      ]
     },
     "execution_count": 33,
     "metadata": {},
     "output_type": "execute_result"
    }
   ],
   "source": [
    "res = app.query(body={\"yql\" : \"select title, date from sources * where default contains 'music' order by date desc\"})\n",
    "res.hits[:2]"
   ]
  },
  {
   "cell_type": "code",
   "execution_count": 34,
   "id": "177c9bac",
   "metadata": {},
   "outputs": [
    {
     "data": {
      "text/plain": [
       "{'id': 'group:root:0',\n",
       " 'relevance': 1.0,\n",
       " 'continuation': {'this': ''},\n",
       " 'children': [{'id': 'grouplist:category',\n",
       "   'relevance': 1.0,\n",
       "   'label': 'category',\n",
       "   'continuation': {'next': 'BGAAABEBGBC'},\n",
       "   'children': [{'id': 'group:string:news',\n",
       "     'relevance': 1.0,\n",
       "     'value': 'news',\n",
       "     'fields': {'count()': 9115}},\n",
       "    {'id': 'group:string:sports',\n",
       "     'relevance': 0.6666666666666666,\n",
       "     'value': 'sports',\n",
       "     'fields': {'count()': 6765}},\n",
       "    {'id': 'group:string:finance',\n",
       "     'relevance': 0.3333333333333333,\n",
       "     'value': 'finance',\n",
       "     'fields': {'count()': 1886}}]}]}"
      ]
     },
     "execution_count": 34,
     "metadata": {},
     "output_type": "execute_result"
    }
   ],
   "source": [
    "res = app.query(body={\"yql\" : \"select * from sources * where sddocname contains 'news' limit 0 | all(group(category) max(3) order(-count())each(output(count())))\"})\n",
    "res.hits[0]"
   ]
  },
  {
   "cell_type": "markdown",
   "id": "57262353",
   "metadata": {},
   "source": [
    "Use news popularity to recommend news with ranking..."
   ]
  },
  {
   "cell_type": "code",
   "execution_count": 35,
   "id": "55e8075a",
   "metadata": {},
   "outputs": [],
   "source": [
    "from vespa.package import RankProfile, Function\n",
    "\n",
    "app_package.schema.add_rank_profile(\n",
    "    RankProfile(\n",
    "        name=\"popularity\",\n",
    "        inherits=\"default\",\n",
    "        functions=[\n",
    "            Function(\n",
    "                name=\"popularity\", \n",
    "                expression=\"if (attribute(impressions) > 0, attribute(clicks) / attribute(impressions), 0)\"\n",
    "            )\n",
    "        ], \n",
    "        first_phase=\"nativeRank(title, abstract) + 10 * popularity\"\n",
    "    )\n",
    ")"
   ]
  },
  {
   "cell_type": "code",
   "execution_count": 36,
   "id": "6a1ab493",
   "metadata": {},
   "outputs": [
    {
     "name": "stdout",
     "output_type": "stream",
     "text": [
      "Waiting for configuration server, 0/60 seconds...\n",
      "Waiting for configuration server, 5/60 seconds...\n",
      "Waiting for configuration server, 10/60 seconds...\n",
      "Waiting for application to come up, 0/300 seconds.\n",
      "Waiting for application to come up, 5/300 seconds.\n",
      "Waiting for application to come up, 10/300 seconds.\n",
      "Waiting for application to come up, 15/300 seconds.\n",
      "Waiting for application to come up, 20/300 seconds.\n",
      "Application is up!\n",
      "Finished deployment.\n"
     ]
    }
   ],
   "source": [
    "app = vespa_docker.deploy(\n",
    "    application_package=app_package, \n",
    ")\n"
   ]
  },
  {
   "cell_type": "code",
   "execution_count": 37,
   "id": "3550faf1",
   "metadata": {},
   "outputs": [],
   "source": [
    "app.deployment_message"
   ]
  },
  {
   "cell_type": "markdown",
   "id": "64b43170",
   "metadata": {},
   "source": [
    "Query using the new popularity signal..."
   ]
  },
  {
   "cell_type": "code",
   "execution_count": 38,
   "id": "e73b1915",
   "metadata": {},
   "outputs": [
    {
     "data": {
      "text/plain": [
       "{'id': 'id:news:news::N5870',\n",
       " 'relevance': 5.156596018746151,\n",
       " 'source': 'news_content',\n",
       " 'fields': {'sddocname': 'news',\n",
       "  'documentid': 'id:news:news::N5870',\n",
       "  'news_id': 'N5870',\n",
       "  'category': 'music',\n",
       "  'subcategory': 'musicnews',\n",
       "  'title': 'Country music group Alabama reschedules their Indy show until next October 2020',\n",
       "  'abstract': 'INDIANAPOLIS, Ind.   Fans of the highly acclaimed country music group Alabama, scheduled to play Bankers Life Fieldhouse Saturday night, will have to wait until next year to see the group. The group famous for such notable songs like \"If You\\'re Gonna Play in Texas\", \"Love In The First Degree\", and \"She and I\", made the announcement that their 50th Anniversary Tour is being rescheduled till ...',\n",
       "  'url': 'https://www.msn.com/en-us/music/musicnews/country-music-group-alabama-reschedules-their-indy-show-until-next-october-2020/ar-BBWB0d7?ocid=chopendata',\n",
       "  'date': 20191108,\n",
       "  'clicks': 1,\n",
       "  'impressions': 2}}"
      ]
     },
     "execution_count": 38,
     "metadata": {},
     "output_type": "execute_result"
    }
   ],
   "source": [
    "res = app.query(body={\n",
    "    \"yql\" : \"select * from sources * where default contains 'music'\",\n",
    "    \"ranking\" : \"popularity\"\n",
    "})\n",
    "res.hits[0]"
   ]
  },
  {
   "cell_type": "code",
   "execution_count": 39,
   "id": "3e6d8e2d",
   "metadata": {},
   "outputs": [],
   "source": [
    "from vespa.package import Schema, Document, Field\n",
    "\n",
    "app_package.add_schema(\n",
    "    Schema(\n",
    "        name=\"user\", \n",
    "        document=Document(\n",
    "            fields=[\n",
    "                Field(\n",
    "                    name=\"user_id\", \n",
    "                    type=\"string\", \n",
    "                    indexing=[\"summary\", \"attribute\"], \n",
    "                    attribute=[\"fast-search\"]\n",
    "                ), \n",
    "                Field(\n",
    "                    name=\"embedding\", \n",
    "                    type=\"tensor<float>(d0[51])\", \n",
    "                    indexing=[\"summary\", \"attribute\"]\n",
    "                )\n",
    "            ]\n",
    "        )\n",
    "    )\n",
    ")"
   ]
  },
  {
   "cell_type": "code",
   "execution_count": 40,
   "id": "9e83806b",
   "metadata": {},
   "outputs": [
    {
     "data": {
      "text/plain": [
       "['news', 'user']"
      ]
     },
     "execution_count": 40,
     "metadata": {},
     "output_type": "execute_result"
    }
   ],
   "source": [
    "[schema.name for schema in app_package.schemas]\n"
   ]
  },
  {
   "cell_type": "code",
   "execution_count": 41,
   "id": "7d01f91c",
   "metadata": {},
   "outputs": [],
   "source": [
    "from vespa.package import Field, HNSW\n",
    "\n",
    "app_package.get_schema(name=\"news\").add_fields(\n",
    "    Field(\n",
    "        name=\"embedding\", \n",
    "        type=\"tensor<float>(d0[51])\", \n",
    "        indexing=[\"attribute\", \"index\"],\n",
    "        ann=HNSW(distance_metric=\"euclidean\")\n",
    "    )\n",
    ")"
   ]
  },
  {
   "cell_type": "code",
   "execution_count": 42,
   "id": "00c5fd33",
   "metadata": {},
   "outputs": [],
   "source": [
    "from vespa.package import RankProfile\n",
    "\n",
    "app_package.get_schema(name=\"news\").add_rank_profile(\n",
    "    RankProfile(\n",
    "        name=\"recommendation\", \n",
    "        inherits=\"default\", \n",
    "        first_phase=\"closeness(field, embedding)\"\n",
    "    )\n",
    ")"
   ]
  },
  {
   "cell_type": "code",
   "execution_count": 43,
   "id": "d36a8213",
   "metadata": {},
   "outputs": [],
   "source": [
    "from vespa.package import QueryTypeField\n",
    "\n",
    "app_package.query_profile_type.add_fields(\n",
    "    QueryTypeField(\n",
    "        name=\"ranking.features.query(user_embedding)\",\n",
    "        type=\"tensor<float>(d0[51])\"\n",
    "    )\n",
    ")\n"
   ]
  },
  {
   "cell_type": "code",
   "execution_count": 44,
   "id": "2a6ed32f",
   "metadata": {},
   "outputs": [
    {
     "name": "stdout",
     "output_type": "stream",
     "text": [
      "Waiting for configuration server, 0/60 seconds...\n",
      "Waiting for configuration server, 5/60 seconds...\n",
      "Waiting for configuration server, 10/60 seconds...\n",
      "Waiting for application to come up, 0/300 seconds.\n",
      "Waiting for application to come up, 5/300 seconds.\n",
      "Waiting for application to come up, 10/300 seconds.\n",
      "Waiting for application to come up, 15/300 seconds.\n",
      "Waiting for application to come up, 20/300 seconds.\n",
      "Application is up!\n",
      "Finished deployment.\n"
     ]
    }
   ],
   "source": [
    "from vespa.deployment import VespaDocker\n",
    "\n",
    "vespa_docker = VespaDocker.from_container_name_or_id(\"news\")\n",
    "app = vespa_docker.deploy(application_package=app_package)"
   ]
  },
  {
   "cell_type": "code",
   "execution_count": 45,
   "id": "45bd6039",
   "metadata": {},
   "outputs": [],
   "source": [
    "app.deployment_message"
   ]
  },
  {
   "cell_type": "code",
   "execution_count": 46,
   "id": "36af575f",
   "metadata": {},
   "outputs": [],
   "source": [
    "import requests, json\n",
    "\n",
    "user_embeddings = json.loads(\n",
    "    requests.get(\"https://thigm85.github.io/data/mind/mind_demo_user_embeddings_parsed.json\").text\n",
    ")\n",
    "news_embeddings = json.loads(\n",
    "    requests.get(\"https://thigm85.github.io/data/mind/mind_demo_news_embeddings_parsed.json\").text\n",
    ")"
   ]
  },
  {
   "cell_type": "code",
   "execution_count": 47,
   "id": "2f7e9a9f",
   "metadata": {},
   "outputs": [],
   "source": [
    "for user_embedding in user_embeddings:\n",
    "    response = app.feed_data_point(\n",
    "        schema=\"user\", \n",
    "        data_id=user_embedding[\"user_id\"], \n",
    "        fields=user_embedding\n",
    "    )\n"
   ]
  },
  {
   "cell_type": "code",
   "execution_count": 48,
   "id": "0e8c06c9",
   "metadata": {},
   "outputs": [],
   "source": [
    "for news_embedding in news_embeddings:\n",
    "    response = app.update_data(\n",
    "        schema=\"news\", \n",
    "        data_id=news_embedding[\"news_id\"], \n",
    "        fields={\"embedding\": news_embedding[\"embedding\"]}\n",
    "    )"
   ]
  },
  {
   "cell_type": "code",
   "execution_count": 49,
   "id": "e9b651a7",
   "metadata": {},
   "outputs": [],
   "source": [
    "def parse_embedding(hit_json):\n",
    "    embedding_json = hit_json[\"fields\"][\"embedding\"][\"values\"]\n",
    "    embedding_vector = [0.0] * len(embedding_json)\n",
    "    i=0\n",
    "    for val in embedding_json:\n",
    "        embedding_vector[i] = val\n",
    "        i+=1\n",
    "    return embedding_vector\n",
    "\n",
    "def query_user_embedding(user_id):\n",
    "    result = app.query(body={\"yql\": \"select * from sources user where user_id contains '{}'\".format(user_id)})\n",
    "    embedding = parse_embedding(result.hits[0])\n",
    "    return embedding\n"
   ]
  },
  {
   "cell_type": "code",
   "execution_count": 50,
   "id": "bc9065d0",
   "metadata": {},
   "outputs": [
    {
     "data": {
      "text/plain": [
       "[0.0,\n",
       " -0.1694680005311966,\n",
       " -0.0703359991312027,\n",
       " -0.03539799898862839,\n",
       " 0.14579899609088898]"
      ]
     },
     "execution_count": 50,
     "metadata": {},
     "output_type": "execute_result"
    }
   ],
   "source": [
    "query_user_embedding(user_id=\"U63195\")[:5]"
   ]
  },
  {
   "cell_type": "code",
   "execution_count": 51,
   "id": "8905a837",
   "metadata": {},
   "outputs": [],
   "source": [
    "yql = \"select title, category from sources news where ({targetHits:10}nearestNeighbor(embedding, user_embedding))\" "
   ]
  },
  {
   "cell_type": "code",
   "execution_count": 52,
   "id": "4edceece",
   "metadata": {},
   "outputs": [],
   "source": [
    "result = app.query(\n",
    "    body={\n",
    "        \"yql\": yql,        \n",
    "        \"hits\": 10,\n",
    "        \"ranking.features.query(user_embedding)\": str(query_user_embedding(user_id=\"U63195\")),\n",
    "        \"ranking.profile\": \"recommendation\"\n",
    "    }\n",
    ")"
   ]
  },
  {
   "cell_type": "code",
   "execution_count": 53,
   "id": "81cb9940",
   "metadata": {},
   "outputs": [
    {
     "data": {
      "text/plain": [
       "[{'id': 'index:news_content/0/aca03f4ba2274dd95b58db9a',\n",
       "  'relevance': 0.1460561756063909,\n",
       "  'source': 'news_content',\n",
       "  'fields': {'category': 'music',\n",
       "   'title': 'Broadway Star Laurel Griggs Suffered Asthma Attack Before She Died at Age 13'}},\n",
       " {'id': 'index:news_content/0/bd02238644c604f3a2d53364',\n",
       "  'relevance': 0.14591827245062294,\n",
       "  'source': 'news_content',\n",
       "  'fields': {'category': 'tv',\n",
       "   'title': \"Rip Taylor's Cause of Death Revealed, Memorial Service Scheduled for Later This Month\"}}]"
      ]
     },
     "execution_count": 53,
     "metadata": {},
     "output_type": "execute_result"
    }
   ],
   "source": [
    "result.hits[0:2]"
   ]
  },
  {
   "cell_type": "code",
   "execution_count": 54,
   "id": "612d5eb4",
   "metadata": {},
   "outputs": [],
   "source": [
    "yql = \"select title, category from sources news where \" \\\n",
    "      \"({targetHits:10}nearestNeighbor(embedding, user_embedding)) AND \" \\\n",
    "      \"category contains 'sports'\"\n"
   ]
  },
  {
   "cell_type": "code",
   "execution_count": 55,
   "id": "d8aebb8c",
   "metadata": {},
   "outputs": [],
   "source": [
    "result = app.query(\n",
    "    body={\n",
    "        \"yql\": yql,        \n",
    "        \"hits\": 10,\n",
    "        \"ranking.features.query(user_embedding)\": str(query_user_embedding(user_id=\"U63195\")),\n",
    "        \"ranking.profile\": \"recommendation\"\n",
    "    }\n",
    ")\n"
   ]
  },
  {
   "cell_type": "code",
   "execution_count": 56,
   "id": "2aaaa456",
   "metadata": {},
   "outputs": [
    {
     "data": {
      "text/plain": [
       "[{'id': 'index:news_content/0/375ea340c21b3138fae1a05c',\n",
       "  'relevance': 0.14417346200569972,\n",
       "  'source': 'news_content',\n",
       "  'fields': {'category': 'sports',\n",
       "   'title': 'Charles Rogers, former Michigan State football, Detroit Lions star, dead at 38'}},\n",
       " {'id': 'index:news_content/0/2b892989020ddf7796dae435',\n",
       "  'relevance': 0.14404365847394848,\n",
       "  'source': 'news_content',\n",
       "  'fields': {'category': 'sports',\n",
       "   'title': \"'Monday Night Football' commentator under fire after belittling criticism of 49ers kicker for missed field goal\"}}]"
      ]
     },
     "execution_count": 56,
     "metadata": {},
     "output_type": "execute_result"
    }
   ],
   "source": [
    "result.hits[0:2]"
   ]
  },
  {
   "cell_type": "code",
   "execution_count": 57,
   "id": "a0211087",
   "metadata": {},
   "outputs": [],
   "source": [
    "from vespa.package import Schema, Document, Field\n",
    "\n",
    "app_package.add_schema(\n",
    "    Schema(\n",
    "        name=\"category_ctr\",\n",
    "        global_document=True,\n",
    "        document=Document(\n",
    "            fields=[\n",
    "                Field(\n",
    "                    name=\"ctrs\", \n",
    "                    type=\"tensor<float>(category{})\", \n",
    "                    indexing=[\"attribute\"], \n",
    "                    attribute=[\"fast-search\"]\n",
    "                ), \n",
    "            ]\n",
    "        )\n",
    "    )\n",
    ")\n"
   ]
  },
  {
   "cell_type": "code",
   "execution_count": 58,
   "id": "79c2dc5e",
   "metadata": {},
   "outputs": [],
   "source": [
    "app_package.get_schema(\"news\").add_fields(\n",
    "    Field(\n",
    "        name=\"category_ctr_ref\",\n",
    "        type=\"reference<category_ctr>\",\n",
    "        indexing=[\"attribute\"],\n",
    "    )\n",
    ")\n"
   ]
  },
  {
   "cell_type": "code",
   "execution_count": 59,
   "id": "4f9a371d",
   "metadata": {},
   "outputs": [],
   "source": [
    "from vespa.package import ImportedField\n",
    "\n",
    "app_package.get_schema(\"news\").add_imported_field(\n",
    "    ImportedField(\n",
    "        name=\"global_category_ctrs\",\n",
    "        reference_field=\"category_ctr_ref\",\n",
    "        field_to_import=\"ctrs\",\n",
    "    )\n",
    ")\n"
   ]
  },
  {
   "cell_type": "code",
   "execution_count": 60,
   "id": "d51b1891",
   "metadata": {},
   "outputs": [],
   "source": [
    "app_package.get_schema(\"news\").add_fields(\n",
    "    Field(\n",
    "        name=\"category_tensor\",\n",
    "        type=\"tensor<float>(category{})\",\n",
    "        indexing=[\"attribute\"],\n",
    "    )\n",
    ")\n"
   ]
  },
  {
   "cell_type": "code",
   "execution_count": 61,
   "id": "a78054ad",
   "metadata": {},
   "outputs": [],
   "source": [
    "from vespa.package import Function\n",
    "\n",
    "app_package.get_schema(\"news\").add_rank_profile(\n",
    "    RankProfile(\n",
    "        name=\"recommendation_with_global_category_ctr\", \n",
    "        inherits=\"recommendation\",\n",
    "        functions=[\n",
    "            Function(\n",
    "                name=\"category_ctr\", \n",
    "                expression=\"sum(attribute(category_tensor) * attribute(global_category_ctrs))\"\n",
    "            ),\n",
    "            Function(\n",
    "                name=\"nearest_neighbor\", \n",
    "                expression=\"closeness(field, embedding)\"\n",
    "            )\n",
    "            \n",
    "        ],\n",
    "        first_phase=\"nearest_neighbor * category_ctr\",\n",
    "        summary_features=[\n",
    "            \"attribute(category_tensor)\", \n",
    "            \"attribute(global_category_ctrs)\", \n",
    "            \"category_ctr\", \n",
    "            \"nearest_neighbor\"\n",
    "        ]\n",
    "    )\n",
    ")"
   ]
  },
  {
   "cell_type": "code",
   "execution_count": 62,
   "id": "7f5f7ea5",
   "metadata": {},
   "outputs": [
    {
     "name": "stdout",
     "output_type": "stream",
     "text": [
      "Waiting for configuration server, 0/60 seconds...\n",
      "Waiting for configuration server, 5/60 seconds...\n",
      "Waiting for configuration server, 10/60 seconds...\n",
      "Waiting for application to come up, 0/300 seconds.\n",
      "Waiting for application to come up, 5/300 seconds.\n",
      "Waiting for application to come up, 10/300 seconds.\n",
      "Waiting for application to come up, 15/300 seconds.\n",
      "Waiting for application to come up, 20/300 seconds.\n",
      "Application is up!\n",
      "Finished deployment.\n"
     ]
    }
   ],
   "source": [
    "from vespa.deployment import VespaDocker\n",
    "\n",
    "vespa_docker = VespaDocker.from_container_name_or_id(\"news\")\n",
    "app = vespa_docker.deploy(application_package=app_package)\n"
   ]
  },
  {
   "cell_type": "code",
   "execution_count": 63,
   "id": "1a65eb45",
   "metadata": {},
   "outputs": [
    {
     "data": {
      "text/plain": [
       "{'ctrs': {'cells': [{'address': {'category': 'entertainment'},\n",
       "    'value': 0.029266420380943244},\n",
       "   {'address': {'category': 'autos'}, 'value': 0.028475809103747123},\n",
       "   {'address': {'category': 'tv'}, 'value': 0.05374837981352176},\n",
       "   {'address': {'category': 'health'}, 'value': 0.03531784305129329},\n",
       "   {'address': {'category': 'sports'}, 'value': 0.05611187986670051},\n",
       "   {'address': {'category': 'music'}, 'value': 0.05471192953054426},\n",
       "   {'address': {'category': 'news'}, 'value': 0.04420778372641991},\n",
       "   {'address': {'category': 'foodanddrink'}, 'value': 0.029256852366228187},\n",
       "   {'address': {'category': 'travel'}, 'value': 0.025144552013730358},\n",
       "   {'address': {'category': 'finance'}, 'value': 0.03231013195899643},\n",
       "   {'address': {'category': 'lifestyle'}, 'value': 0.04423279317474416},\n",
       "   {'address': {'category': 'video'}, 'value': 0.04006693315980292},\n",
       "   {'address': {'category': 'movies'}, 'value': 0.03335647459420146},\n",
       "   {'address': {'category': 'weather'}, 'value': 0.04532171803495617},\n",
       "   {'address': {'category': 'northamerica'}, 'value': 0.0},\n",
       "   {'address': {'category': 'kids'}, 'value': 0.043478260869565216}]}}"
      ]
     },
     "execution_count": 63,
     "metadata": {},
     "output_type": "execute_result"
    }
   ],
   "source": [
    "import requests, json\n",
    "\n",
    "global_category_ctr = json.loads(\n",
    "    requests.get(\"https://data.vespa-cloud.com/blog/news/global_category_ctr_parsed.json\").text\n",
    ")\n",
    "global_category_ctr\n"
   ]
  },
  {
   "cell_type": "code",
   "execution_count": 64,
   "id": "2cbbaa65",
   "metadata": {},
   "outputs": [],
   "source": [
    "response = app.feed_data_point(schema=\"category_ctr\", data_id=\"global\", fields=global_category_ctr)"
   ]
  },
  {
   "cell_type": "code",
   "execution_count": 65,
   "id": "1fec3836",
   "metadata": {},
   "outputs": [
    {
     "data": {
      "text/plain": [
       "{'id': 'N3112',\n",
       " 'fields': {'category_ctr_ref': 'id:category_ctr:category_ctr::global',\n",
       "  'category_tensor': {'cells': [{'address': {'category': 'lifestyle'},\n",
       "     'value': 1.0}]}}}"
      ]
     },
     "execution_count": 65,
     "metadata": {},
     "output_type": "execute_result"
    }
   ],
   "source": [
    "news_category_ctr = json.loads(\n",
    "    requests.get(\"https://data.vespa-cloud.com/blog/news/news_category_ctr_update_parsed.json\").text\n",
    ")\n",
    "news_category_ctr[0]\n"
   ]
  },
  {
   "cell_type": "code",
   "execution_count": 66,
   "id": "0e216732",
   "metadata": {},
   "outputs": [],
   "source": [
    "for data_point in news_category_ctr:\n",
    "    response = app.update_data(schema=\"news\", data_id=data_point[\"id\"], fields=data_point[\"fields\"])"
   ]
  },
  {
   "cell_type": "code",
   "execution_count": 67,
   "id": "4af8ccdc",
   "metadata": {},
   "outputs": [],
   "source": [
    "def parse_embedding(hit_json):\n",
    "    embedding_json = hit_json[\"fields\"][\"embedding\"][\"values\"]\n",
    "    embedding_vector = [0.0] * len(embedding_json)\n",
    "    i=0\n",
    "    for val in embedding_json:\n",
    "        embedding_vector[i] = val\n",
    "        i+=1\n",
    "    return embedding_vector\n",
    "\n",
    "def query_user_embedding(user_id):\n",
    "    result = app.query(body={\"yql\": \"select * from sources user where user_id contains '{}'\".format(user_id)})\n",
    "    embedding = parse_embedding(result.hits[0])\n",
    "    return embedding\n",
    "yql = \"select * from sources news where \" \\\n",
    "      \"({targetHits:10}nearestNeighbor(embedding, user_embedding))\"\n",
    "result = app.query(\n",
    "    body={\n",
    "        \"yql\": yql,        \n",
    "        \"hits\": 10,\n",
    "        \"ranking.features.query(user_embedding)\": str(query_user_embedding(user_id=\"U33527\")),\n",
    "        \"ranking.profile\": \"recommendation_with_global_category_ctr\"\n",
    "    }\n",
    ")"
   ]
  },
  {
   "cell_type": "code",
   "execution_count": 68,
   "id": "29c8969f",
   "metadata": {},
   "outputs": [
    {
     "data": {
      "text/plain": [
       "{'id': 'id:news:news::N5316',\n",
       " 'relevance': 0.008369192847921151,\n",
       " 'source': 'news_content',\n",
       " 'fields': {'sddocname': 'news',\n",
       "  'documentid': 'id:news:news::N5316',\n",
       "  'news_id': 'N5316',\n",
       "  'category': 'sports',\n",
       "  'subcategory': 'football_nfl',\n",
       "  'title': \"Matthew Stafford's status vs. Bears uncertain, Sam Martin will play\",\n",
       "  'abstract': \"Stafford's start streak could be in jeopardy, according to Ian Rapoport.\",\n",
       "  'url': \"https://www.msn.com/en-us/sports/football_nfl/matthew-stafford's-status-vs.-bears-uncertain,-sam-martin-will-play/ar-BBWwcVN?ocid=chopendata\",\n",
       "  'date': 20191112,\n",
       "  'clicks': 0,\n",
       "  'impressions': 1,\n",
       "  'summaryfeatures': {'attribute(category_tensor)': {'type': 'tensor<float>(category{})',\n",
       "    'cells': {'sports': 1.0}},\n",
       "   'attribute(global_category_ctrs)': {'type': 'tensor<float>(category{})',\n",
       "    'cells': {'entertainment': 0.029266420751810074,\n",
       "     'autos': 0.0284758098423481,\n",
       "     'tv': 0.05374838039278984,\n",
       "     'health': 0.03531784191727638,\n",
       "     'sports': 0.05611187964677811,\n",
       "     'music': 0.05471193045377731,\n",
       "     'news': 0.04420778527855873,\n",
       "     'foodanddrink': 0.029256852343678474,\n",
       "     'travel': 0.025144552811980247,\n",
       "     'finance': 0.032310131937265396,\n",
       "     'lifestyle': 0.044232793152332306,\n",
       "     'video': 0.040066931396722794,\n",
       "     'movies': 0.033356472849845886,\n",
       "     'weather': 0.045321717858314514,\n",
       "     'northamerica': 0.0,\n",
       "     'kids': 0.043478261679410934}},\n",
       "   'category_ctr': 0.05611187964677811,\n",
       "   'nearest_neighbor': 0.14915188905816137,\n",
       "   'vespa.summaryFeatures.cached': 0.0}}}"
      ]
     },
     "execution_count": 68,
     "metadata": {},
     "output_type": "execute_result"
    }
   ],
   "source": [
    "result.hits[0]\n"
   ]
  },
  {
   "cell_type": "code",
   "execution_count": 69,
   "id": "a4766411",
   "metadata": {},
   "outputs": [],
   "source": [
    "vespa_docker.container.stop()\n",
    "#vespa_docker.container.remove()\n"
   ]
  },
  {
   "cell_type": "code",
   "execution_count": null,
   "id": "1577c435",
   "metadata": {},
   "outputs": [],
   "source": []
  }
 ],
 "metadata": {
  "kernelspec": {
   "display_name": "News_Recommendation_Vespa",
   "language": "python",
   "name": "python3"
  },
  "language_info": {
   "codemirror_mode": {
    "name": "ipython",
    "version": 3
   },
   "file_extension": ".py",
   "mimetype": "text/x-python",
   "name": "python",
   "nbconvert_exporter": "python",
   "pygments_lexer": "ipython3",
   "version": "3.11.7"
  }
 },
 "nbformat": 4,
 "nbformat_minor": 5
}
